{
  "nbformat": 4,
  "nbformat_minor": 0,
  "metadata": {
    "colab": {
      "provenance": []
    },
    "kernelspec": {
      "name": "python3",
      "display_name": "Python 3"
    },
    "language_info": {
      "name": "python"
    }
  },
  "cells": [
    {
      "cell_type": "markdown",
      "source": [
        "1. Download the Iris Flower dataset from https://www.kaggle.com/datasets/arshid/iris-flower-dataset.\n"
      ],
      "metadata": {
        "id": "OaeTEyA6JVoe"
      }
    },
    {
      "cell_type": "markdown",
      "source": [
        "2. Load data into Pandas DataFrame\n"
      ],
      "metadata": {
        "id": "Ov9L9NNUJqzU"
      }
    },
    {
      "cell_type": "code",
      "source": [
        "import pandas as pd\n",
        "df = pd.read_csv('IRIS.csv')"
      ],
      "metadata": {
        "id": "g1lBC60VJt9m"
      },
      "execution_count": null,
      "outputs": []
    },
    {
      "cell_type": "markdown",
      "source": [
        "3. Explore the dataset, report the number of data and features\n",
        "\n"
      ],
      "metadata": {
        "id": "lojRqBQCJ6jT"
      }
    },
    {
      "cell_type": "code",
      "source": [
        "df.head()"
      ],
      "metadata": {
        "colab": {
          "base_uri": "https://localhost:8080/",
          "height": 206
        },
        "id": "H_M4WKhIKAIu",
        "outputId": "f4ea1b94-3d50-44f7-e321-3c25f3d7bbfe"
      },
      "execution_count": null,
      "outputs": [
        {
          "output_type": "execute_result",
          "data": {
            "text/plain": [
              "   sepal_length  sepal_width  petal_length  petal_width      species\n",
              "0           5.1          3.5           1.4          0.2  Iris-setosa\n",
              "1           4.9          3.0           1.4          0.2  Iris-setosa\n",
              "2           4.7          3.2           1.3          0.2  Iris-setosa\n",
              "3           4.6          3.1           1.5          0.2  Iris-setosa\n",
              "4           5.0          3.6           1.4          0.2  Iris-setosa"
            ],
            "text/html": [
              "\n",
              "  <div id=\"df-02dca54b-27b6-4280-a877-950d497f8f72\" class=\"colab-df-container\">\n",
              "    <div>\n",
              "<style scoped>\n",
              "    .dataframe tbody tr th:only-of-type {\n",
              "        vertical-align: middle;\n",
              "    }\n",
              "\n",
              "    .dataframe tbody tr th {\n",
              "        vertical-align: top;\n",
              "    }\n",
              "\n",
              "    .dataframe thead th {\n",
              "        text-align: right;\n",
              "    }\n",
              "</style>\n",
              "<table border=\"1\" class=\"dataframe\">\n",
              "  <thead>\n",
              "    <tr style=\"text-align: right;\">\n",
              "      <th></th>\n",
              "      <th>sepal_length</th>\n",
              "      <th>sepal_width</th>\n",
              "      <th>petal_length</th>\n",
              "      <th>petal_width</th>\n",
              "      <th>species</th>\n",
              "    </tr>\n",
              "  </thead>\n",
              "  <tbody>\n",
              "    <tr>\n",
              "      <th>0</th>\n",
              "      <td>5.1</td>\n",
              "      <td>3.5</td>\n",
              "      <td>1.4</td>\n",
              "      <td>0.2</td>\n",
              "      <td>Iris-setosa</td>\n",
              "    </tr>\n",
              "    <tr>\n",
              "      <th>1</th>\n",
              "      <td>4.9</td>\n",
              "      <td>3.0</td>\n",
              "      <td>1.4</td>\n",
              "      <td>0.2</td>\n",
              "      <td>Iris-setosa</td>\n",
              "    </tr>\n",
              "    <tr>\n",
              "      <th>2</th>\n",
              "      <td>4.7</td>\n",
              "      <td>3.2</td>\n",
              "      <td>1.3</td>\n",
              "      <td>0.2</td>\n",
              "      <td>Iris-setosa</td>\n",
              "    </tr>\n",
              "    <tr>\n",
              "      <th>3</th>\n",
              "      <td>4.6</td>\n",
              "      <td>3.1</td>\n",
              "      <td>1.5</td>\n",
              "      <td>0.2</td>\n",
              "      <td>Iris-setosa</td>\n",
              "    </tr>\n",
              "    <tr>\n",
              "      <th>4</th>\n",
              "      <td>5.0</td>\n",
              "      <td>3.6</td>\n",
              "      <td>1.4</td>\n",
              "      <td>0.2</td>\n",
              "      <td>Iris-setosa</td>\n",
              "    </tr>\n",
              "  </tbody>\n",
              "</table>\n",
              "</div>\n",
              "    <div class=\"colab-df-buttons\">\n",
              "\n",
              "  <div class=\"colab-df-container\">\n",
              "    <button class=\"colab-df-convert\" onclick=\"convertToInteractive('df-02dca54b-27b6-4280-a877-950d497f8f72')\"\n",
              "            title=\"Convert this dataframe to an interactive table.\"\n",
              "            style=\"display:none;\">\n",
              "\n",
              "  <svg xmlns=\"http://www.w3.org/2000/svg\" height=\"24px\" viewBox=\"0 -960 960 960\">\n",
              "    <path d=\"M120-120v-720h720v720H120Zm60-500h600v-160H180v160Zm220 220h160v-160H400v160Zm0 220h160v-160H400v160ZM180-400h160v-160H180v160Zm440 0h160v-160H620v160ZM180-180h160v-160H180v160Zm440 0h160v-160H620v160Z\"/>\n",
              "  </svg>\n",
              "    </button>\n",
              "\n",
              "  <style>\n",
              "    .colab-df-container {\n",
              "      display:flex;\n",
              "      gap: 12px;\n",
              "    }\n",
              "\n",
              "    .colab-df-convert {\n",
              "      background-color: #E8F0FE;\n",
              "      border: none;\n",
              "      border-radius: 50%;\n",
              "      cursor: pointer;\n",
              "      display: none;\n",
              "      fill: #1967D2;\n",
              "      height: 32px;\n",
              "      padding: 0 0 0 0;\n",
              "      width: 32px;\n",
              "    }\n",
              "\n",
              "    .colab-df-convert:hover {\n",
              "      background-color: #E2EBFA;\n",
              "      box-shadow: 0px 1px 2px rgba(60, 64, 67, 0.3), 0px 1px 3px 1px rgba(60, 64, 67, 0.15);\n",
              "      fill: #174EA6;\n",
              "    }\n",
              "\n",
              "    .colab-df-buttons div {\n",
              "      margin-bottom: 4px;\n",
              "    }\n",
              "\n",
              "    [theme=dark] .colab-df-convert {\n",
              "      background-color: #3B4455;\n",
              "      fill: #D2E3FC;\n",
              "    }\n",
              "\n",
              "    [theme=dark] .colab-df-convert:hover {\n",
              "      background-color: #434B5C;\n",
              "      box-shadow: 0px 1px 3px 1px rgba(0, 0, 0, 0.15);\n",
              "      filter: drop-shadow(0px 1px 2px rgba(0, 0, 0, 0.3));\n",
              "      fill: #FFFFFF;\n",
              "    }\n",
              "  </style>\n",
              "\n",
              "    <script>\n",
              "      const buttonEl =\n",
              "        document.querySelector('#df-02dca54b-27b6-4280-a877-950d497f8f72 button.colab-df-convert');\n",
              "      buttonEl.style.display =\n",
              "        google.colab.kernel.accessAllowed ? 'block' : 'none';\n",
              "\n",
              "      async function convertToInteractive(key) {\n",
              "        const element = document.querySelector('#df-02dca54b-27b6-4280-a877-950d497f8f72');\n",
              "        const dataTable =\n",
              "          await google.colab.kernel.invokeFunction('convertToInteractive',\n",
              "                                                    [key], {});\n",
              "        if (!dataTable) return;\n",
              "\n",
              "        const docLinkHtml = 'Like what you see? Visit the ' +\n",
              "          '<a target=\"_blank\" href=https://colab.research.google.com/notebooks/data_table.ipynb>data table notebook</a>'\n",
              "          + ' to learn more about interactive tables.';\n",
              "        element.innerHTML = '';\n",
              "        dataTable['output_type'] = 'display_data';\n",
              "        await google.colab.output.renderOutput(dataTable, element);\n",
              "        const docLink = document.createElement('div');\n",
              "        docLink.innerHTML = docLinkHtml;\n",
              "        element.appendChild(docLink);\n",
              "      }\n",
              "    </script>\n",
              "  </div>\n",
              "\n",
              "\n",
              "<div id=\"df-4d3f019e-efb5-44ac-a2bd-dd4bd755f942\">\n",
              "  <button class=\"colab-df-quickchart\" onclick=\"quickchart('df-4d3f019e-efb5-44ac-a2bd-dd4bd755f942')\"\n",
              "            title=\"Suggest charts\"\n",
              "            style=\"display:none;\">\n",
              "\n",
              "<svg xmlns=\"http://www.w3.org/2000/svg\" height=\"24px\"viewBox=\"0 0 24 24\"\n",
              "     width=\"24px\">\n",
              "    <g>\n",
              "        <path d=\"M19 3H5c-1.1 0-2 .9-2 2v14c0 1.1.9 2 2 2h14c1.1 0 2-.9 2-2V5c0-1.1-.9-2-2-2zM9 17H7v-7h2v7zm4 0h-2V7h2v10zm4 0h-2v-4h2v4z\"/>\n",
              "    </g>\n",
              "</svg>\n",
              "  </button>\n",
              "\n",
              "<style>\n",
              "  .colab-df-quickchart {\n",
              "      --bg-color: #E8F0FE;\n",
              "      --fill-color: #1967D2;\n",
              "      --hover-bg-color: #E2EBFA;\n",
              "      --hover-fill-color: #174EA6;\n",
              "      --disabled-fill-color: #AAA;\n",
              "      --disabled-bg-color: #DDD;\n",
              "  }\n",
              "\n",
              "  [theme=dark] .colab-df-quickchart {\n",
              "      --bg-color: #3B4455;\n",
              "      --fill-color: #D2E3FC;\n",
              "      --hover-bg-color: #434B5C;\n",
              "      --hover-fill-color: #FFFFFF;\n",
              "      --disabled-bg-color: #3B4455;\n",
              "      --disabled-fill-color: #666;\n",
              "  }\n",
              "\n",
              "  .colab-df-quickchart {\n",
              "    background-color: var(--bg-color);\n",
              "    border: none;\n",
              "    border-radius: 50%;\n",
              "    cursor: pointer;\n",
              "    display: none;\n",
              "    fill: var(--fill-color);\n",
              "    height: 32px;\n",
              "    padding: 0;\n",
              "    width: 32px;\n",
              "  }\n",
              "\n",
              "  .colab-df-quickchart:hover {\n",
              "    background-color: var(--hover-bg-color);\n",
              "    box-shadow: 0 1px 2px rgba(60, 64, 67, 0.3), 0 1px 3px 1px rgba(60, 64, 67, 0.15);\n",
              "    fill: var(--button-hover-fill-color);\n",
              "  }\n",
              "\n",
              "  .colab-df-quickchart-complete:disabled,\n",
              "  .colab-df-quickchart-complete:disabled:hover {\n",
              "    background-color: var(--disabled-bg-color);\n",
              "    fill: var(--disabled-fill-color);\n",
              "    box-shadow: none;\n",
              "  }\n",
              "\n",
              "  .colab-df-spinner {\n",
              "    border: 2px solid var(--fill-color);\n",
              "    border-color: transparent;\n",
              "    border-bottom-color: var(--fill-color);\n",
              "    animation:\n",
              "      spin 1s steps(1) infinite;\n",
              "  }\n",
              "\n",
              "  @keyframes spin {\n",
              "    0% {\n",
              "      border-color: transparent;\n",
              "      border-bottom-color: var(--fill-color);\n",
              "      border-left-color: var(--fill-color);\n",
              "    }\n",
              "    20% {\n",
              "      border-color: transparent;\n",
              "      border-left-color: var(--fill-color);\n",
              "      border-top-color: var(--fill-color);\n",
              "    }\n",
              "    30% {\n",
              "      border-color: transparent;\n",
              "      border-left-color: var(--fill-color);\n",
              "      border-top-color: var(--fill-color);\n",
              "      border-right-color: var(--fill-color);\n",
              "    }\n",
              "    40% {\n",
              "      border-color: transparent;\n",
              "      border-right-color: var(--fill-color);\n",
              "      border-top-color: var(--fill-color);\n",
              "    }\n",
              "    60% {\n",
              "      border-color: transparent;\n",
              "      border-right-color: var(--fill-color);\n",
              "    }\n",
              "    80% {\n",
              "      border-color: transparent;\n",
              "      border-right-color: var(--fill-color);\n",
              "      border-bottom-color: var(--fill-color);\n",
              "    }\n",
              "    90% {\n",
              "      border-color: transparent;\n",
              "      border-bottom-color: var(--fill-color);\n",
              "    }\n",
              "  }\n",
              "</style>\n",
              "\n",
              "  <script>\n",
              "    async function quickchart(key) {\n",
              "      const quickchartButtonEl =\n",
              "        document.querySelector('#' + key + ' button');\n",
              "      quickchartButtonEl.disabled = true;  // To prevent multiple clicks.\n",
              "      quickchartButtonEl.classList.add('colab-df-spinner');\n",
              "      try {\n",
              "        const charts = await google.colab.kernel.invokeFunction(\n",
              "            'suggestCharts', [key], {});\n",
              "      } catch (error) {\n",
              "        console.error('Error during call to suggestCharts:', error);\n",
              "      }\n",
              "      quickchartButtonEl.classList.remove('colab-df-spinner');\n",
              "      quickchartButtonEl.classList.add('colab-df-quickchart-complete');\n",
              "    }\n",
              "    (() => {\n",
              "      let quickchartButtonEl =\n",
              "        document.querySelector('#df-4d3f019e-efb5-44ac-a2bd-dd4bd755f942 button');\n",
              "      quickchartButtonEl.style.display =\n",
              "        google.colab.kernel.accessAllowed ? 'block' : 'none';\n",
              "    })();\n",
              "  </script>\n",
              "</div>\n",
              "    </div>\n",
              "  </div>\n"
            ]
          },
          "metadata": {},
          "execution_count": 2
        }
      ]
    },
    {
      "cell_type": "code",
      "source": [
        "df.describe()\n"
      ],
      "metadata": {
        "colab": {
          "base_uri": "https://localhost:8080/",
          "height": 300
        },
        "id": "4WQrgJkyKEC2",
        "outputId": "767b2d30-708a-4b18-d7b0-11dc9afa3930"
      },
      "execution_count": null,
      "outputs": [
        {
          "output_type": "execute_result",
          "data": {
            "text/plain": [
              "       sepal_length  sepal_width  petal_length  petal_width\n",
              "count    150.000000   150.000000    150.000000   150.000000\n",
              "mean       5.843333     3.054000      3.758667     1.198667\n",
              "std        0.828066     0.433594      1.764420     0.763161\n",
              "min        4.300000     2.000000      1.000000     0.100000\n",
              "25%        5.100000     2.800000      1.600000     0.300000\n",
              "50%        5.800000     3.000000      4.350000     1.300000\n",
              "75%        6.400000     3.300000      5.100000     1.800000\n",
              "max        7.900000     4.400000      6.900000     2.500000"
            ],
            "text/html": [
              "\n",
              "  <div id=\"df-e6e4be21-dc17-4712-b6be-e5256bd995f9\" class=\"colab-df-container\">\n",
              "    <div>\n",
              "<style scoped>\n",
              "    .dataframe tbody tr th:only-of-type {\n",
              "        vertical-align: middle;\n",
              "    }\n",
              "\n",
              "    .dataframe tbody tr th {\n",
              "        vertical-align: top;\n",
              "    }\n",
              "\n",
              "    .dataframe thead th {\n",
              "        text-align: right;\n",
              "    }\n",
              "</style>\n",
              "<table border=\"1\" class=\"dataframe\">\n",
              "  <thead>\n",
              "    <tr style=\"text-align: right;\">\n",
              "      <th></th>\n",
              "      <th>sepal_length</th>\n",
              "      <th>sepal_width</th>\n",
              "      <th>petal_length</th>\n",
              "      <th>petal_width</th>\n",
              "    </tr>\n",
              "  </thead>\n",
              "  <tbody>\n",
              "    <tr>\n",
              "      <th>count</th>\n",
              "      <td>150.000000</td>\n",
              "      <td>150.000000</td>\n",
              "      <td>150.000000</td>\n",
              "      <td>150.000000</td>\n",
              "    </tr>\n",
              "    <tr>\n",
              "      <th>mean</th>\n",
              "      <td>5.843333</td>\n",
              "      <td>3.054000</td>\n",
              "      <td>3.758667</td>\n",
              "      <td>1.198667</td>\n",
              "    </tr>\n",
              "    <tr>\n",
              "      <th>std</th>\n",
              "      <td>0.828066</td>\n",
              "      <td>0.433594</td>\n",
              "      <td>1.764420</td>\n",
              "      <td>0.763161</td>\n",
              "    </tr>\n",
              "    <tr>\n",
              "      <th>min</th>\n",
              "      <td>4.300000</td>\n",
              "      <td>2.000000</td>\n",
              "      <td>1.000000</td>\n",
              "      <td>0.100000</td>\n",
              "    </tr>\n",
              "    <tr>\n",
              "      <th>25%</th>\n",
              "      <td>5.100000</td>\n",
              "      <td>2.800000</td>\n",
              "      <td>1.600000</td>\n",
              "      <td>0.300000</td>\n",
              "    </tr>\n",
              "    <tr>\n",
              "      <th>50%</th>\n",
              "      <td>5.800000</td>\n",
              "      <td>3.000000</td>\n",
              "      <td>4.350000</td>\n",
              "      <td>1.300000</td>\n",
              "    </tr>\n",
              "    <tr>\n",
              "      <th>75%</th>\n",
              "      <td>6.400000</td>\n",
              "      <td>3.300000</td>\n",
              "      <td>5.100000</td>\n",
              "      <td>1.800000</td>\n",
              "    </tr>\n",
              "    <tr>\n",
              "      <th>max</th>\n",
              "      <td>7.900000</td>\n",
              "      <td>4.400000</td>\n",
              "      <td>6.900000</td>\n",
              "      <td>2.500000</td>\n",
              "    </tr>\n",
              "  </tbody>\n",
              "</table>\n",
              "</div>\n",
              "    <div class=\"colab-df-buttons\">\n",
              "\n",
              "  <div class=\"colab-df-container\">\n",
              "    <button class=\"colab-df-convert\" onclick=\"convertToInteractive('df-e6e4be21-dc17-4712-b6be-e5256bd995f9')\"\n",
              "            title=\"Convert this dataframe to an interactive table.\"\n",
              "            style=\"display:none;\">\n",
              "\n",
              "  <svg xmlns=\"http://www.w3.org/2000/svg\" height=\"24px\" viewBox=\"0 -960 960 960\">\n",
              "    <path d=\"M120-120v-720h720v720H120Zm60-500h600v-160H180v160Zm220 220h160v-160H400v160Zm0 220h160v-160H400v160ZM180-400h160v-160H180v160Zm440 0h160v-160H620v160ZM180-180h160v-160H180v160Zm440 0h160v-160H620v160Z\"/>\n",
              "  </svg>\n",
              "    </button>\n",
              "\n",
              "  <style>\n",
              "    .colab-df-container {\n",
              "      display:flex;\n",
              "      gap: 12px;\n",
              "    }\n",
              "\n",
              "    .colab-df-convert {\n",
              "      background-color: #E8F0FE;\n",
              "      border: none;\n",
              "      border-radius: 50%;\n",
              "      cursor: pointer;\n",
              "      display: none;\n",
              "      fill: #1967D2;\n",
              "      height: 32px;\n",
              "      padding: 0 0 0 0;\n",
              "      width: 32px;\n",
              "    }\n",
              "\n",
              "    .colab-df-convert:hover {\n",
              "      background-color: #E2EBFA;\n",
              "      box-shadow: 0px 1px 2px rgba(60, 64, 67, 0.3), 0px 1px 3px 1px rgba(60, 64, 67, 0.15);\n",
              "      fill: #174EA6;\n",
              "    }\n",
              "\n",
              "    .colab-df-buttons div {\n",
              "      margin-bottom: 4px;\n",
              "    }\n",
              "\n",
              "    [theme=dark] .colab-df-convert {\n",
              "      background-color: #3B4455;\n",
              "      fill: #D2E3FC;\n",
              "    }\n",
              "\n",
              "    [theme=dark] .colab-df-convert:hover {\n",
              "      background-color: #434B5C;\n",
              "      box-shadow: 0px 1px 3px 1px rgba(0, 0, 0, 0.15);\n",
              "      filter: drop-shadow(0px 1px 2px rgba(0, 0, 0, 0.3));\n",
              "      fill: #FFFFFF;\n",
              "    }\n",
              "  </style>\n",
              "\n",
              "    <script>\n",
              "      const buttonEl =\n",
              "        document.querySelector('#df-e6e4be21-dc17-4712-b6be-e5256bd995f9 button.colab-df-convert');\n",
              "      buttonEl.style.display =\n",
              "        google.colab.kernel.accessAllowed ? 'block' : 'none';\n",
              "\n",
              "      async function convertToInteractive(key) {\n",
              "        const element = document.querySelector('#df-e6e4be21-dc17-4712-b6be-e5256bd995f9');\n",
              "        const dataTable =\n",
              "          await google.colab.kernel.invokeFunction('convertToInteractive',\n",
              "                                                    [key], {});\n",
              "        if (!dataTable) return;\n",
              "\n",
              "        const docLinkHtml = 'Like what you see? Visit the ' +\n",
              "          '<a target=\"_blank\" href=https://colab.research.google.com/notebooks/data_table.ipynb>data table notebook</a>'\n",
              "          + ' to learn more about interactive tables.';\n",
              "        element.innerHTML = '';\n",
              "        dataTable['output_type'] = 'display_data';\n",
              "        await google.colab.output.renderOutput(dataTable, element);\n",
              "        const docLink = document.createElement('div');\n",
              "        docLink.innerHTML = docLinkHtml;\n",
              "        element.appendChild(docLink);\n",
              "      }\n",
              "    </script>\n",
              "  </div>\n",
              "\n",
              "\n",
              "<div id=\"df-47da4227-38fa-4f42-81df-af63bda50db8\">\n",
              "  <button class=\"colab-df-quickchart\" onclick=\"quickchart('df-47da4227-38fa-4f42-81df-af63bda50db8')\"\n",
              "            title=\"Suggest charts\"\n",
              "            style=\"display:none;\">\n",
              "\n",
              "<svg xmlns=\"http://www.w3.org/2000/svg\" height=\"24px\"viewBox=\"0 0 24 24\"\n",
              "     width=\"24px\">\n",
              "    <g>\n",
              "        <path d=\"M19 3H5c-1.1 0-2 .9-2 2v14c0 1.1.9 2 2 2h14c1.1 0 2-.9 2-2V5c0-1.1-.9-2-2-2zM9 17H7v-7h2v7zm4 0h-2V7h2v10zm4 0h-2v-4h2v4z\"/>\n",
              "    </g>\n",
              "</svg>\n",
              "  </button>\n",
              "\n",
              "<style>\n",
              "  .colab-df-quickchart {\n",
              "      --bg-color: #E8F0FE;\n",
              "      --fill-color: #1967D2;\n",
              "      --hover-bg-color: #E2EBFA;\n",
              "      --hover-fill-color: #174EA6;\n",
              "      --disabled-fill-color: #AAA;\n",
              "      --disabled-bg-color: #DDD;\n",
              "  }\n",
              "\n",
              "  [theme=dark] .colab-df-quickchart {\n",
              "      --bg-color: #3B4455;\n",
              "      --fill-color: #D2E3FC;\n",
              "      --hover-bg-color: #434B5C;\n",
              "      --hover-fill-color: #FFFFFF;\n",
              "      --disabled-bg-color: #3B4455;\n",
              "      --disabled-fill-color: #666;\n",
              "  }\n",
              "\n",
              "  .colab-df-quickchart {\n",
              "    background-color: var(--bg-color);\n",
              "    border: none;\n",
              "    border-radius: 50%;\n",
              "    cursor: pointer;\n",
              "    display: none;\n",
              "    fill: var(--fill-color);\n",
              "    height: 32px;\n",
              "    padding: 0;\n",
              "    width: 32px;\n",
              "  }\n",
              "\n",
              "  .colab-df-quickchart:hover {\n",
              "    background-color: var(--hover-bg-color);\n",
              "    box-shadow: 0 1px 2px rgba(60, 64, 67, 0.3), 0 1px 3px 1px rgba(60, 64, 67, 0.15);\n",
              "    fill: var(--button-hover-fill-color);\n",
              "  }\n",
              "\n",
              "  .colab-df-quickchart-complete:disabled,\n",
              "  .colab-df-quickchart-complete:disabled:hover {\n",
              "    background-color: var(--disabled-bg-color);\n",
              "    fill: var(--disabled-fill-color);\n",
              "    box-shadow: none;\n",
              "  }\n",
              "\n",
              "  .colab-df-spinner {\n",
              "    border: 2px solid var(--fill-color);\n",
              "    border-color: transparent;\n",
              "    border-bottom-color: var(--fill-color);\n",
              "    animation:\n",
              "      spin 1s steps(1) infinite;\n",
              "  }\n",
              "\n",
              "  @keyframes spin {\n",
              "    0% {\n",
              "      border-color: transparent;\n",
              "      border-bottom-color: var(--fill-color);\n",
              "      border-left-color: var(--fill-color);\n",
              "    }\n",
              "    20% {\n",
              "      border-color: transparent;\n",
              "      border-left-color: var(--fill-color);\n",
              "      border-top-color: var(--fill-color);\n",
              "    }\n",
              "    30% {\n",
              "      border-color: transparent;\n",
              "      border-left-color: var(--fill-color);\n",
              "      border-top-color: var(--fill-color);\n",
              "      border-right-color: var(--fill-color);\n",
              "    }\n",
              "    40% {\n",
              "      border-color: transparent;\n",
              "      border-right-color: var(--fill-color);\n",
              "      border-top-color: var(--fill-color);\n",
              "    }\n",
              "    60% {\n",
              "      border-color: transparent;\n",
              "      border-right-color: var(--fill-color);\n",
              "    }\n",
              "    80% {\n",
              "      border-color: transparent;\n",
              "      border-right-color: var(--fill-color);\n",
              "      border-bottom-color: var(--fill-color);\n",
              "    }\n",
              "    90% {\n",
              "      border-color: transparent;\n",
              "      border-bottom-color: var(--fill-color);\n",
              "    }\n",
              "  }\n",
              "</style>\n",
              "\n",
              "  <script>\n",
              "    async function quickchart(key) {\n",
              "      const quickchartButtonEl =\n",
              "        document.querySelector('#' + key + ' button');\n",
              "      quickchartButtonEl.disabled = true;  // To prevent multiple clicks.\n",
              "      quickchartButtonEl.classList.add('colab-df-spinner');\n",
              "      try {\n",
              "        const charts = await google.colab.kernel.invokeFunction(\n",
              "            'suggestCharts', [key], {});\n",
              "      } catch (error) {\n",
              "        console.error('Error during call to suggestCharts:', error);\n",
              "      }\n",
              "      quickchartButtonEl.classList.remove('colab-df-spinner');\n",
              "      quickchartButtonEl.classList.add('colab-df-quickchart-complete');\n",
              "    }\n",
              "    (() => {\n",
              "      let quickchartButtonEl =\n",
              "        document.querySelector('#df-47da4227-38fa-4f42-81df-af63bda50db8 button');\n",
              "      quickchartButtonEl.style.display =\n",
              "        google.colab.kernel.accessAllowed ? 'block' : 'none';\n",
              "    })();\n",
              "  </script>\n",
              "</div>\n",
              "    </div>\n",
              "  </div>\n"
            ]
          },
          "metadata": {},
          "execution_count": 3
        }
      ]
    },
    {
      "cell_type": "code",
      "source": [
        "df.info()\n"
      ],
      "metadata": {
        "colab": {
          "base_uri": "https://localhost:8080/"
        },
        "id": "9Yqu40TeKHPY",
        "outputId": "7ff78097-1b9d-42cb-da2d-2bcfe437c65c"
      },
      "execution_count": null,
      "outputs": [
        {
          "output_type": "stream",
          "name": "stdout",
          "text": [
            "<class 'pandas.core.frame.DataFrame'>\n",
            "RangeIndex: 150 entries, 0 to 149\n",
            "Data columns (total 5 columns):\n",
            " #   Column        Non-Null Count  Dtype  \n",
            "---  ------        --------------  -----  \n",
            " 0   sepal_length  150 non-null    float64\n",
            " 1   sepal_width   150 non-null    float64\n",
            " 2   petal_length  150 non-null    float64\n",
            " 3   petal_width   150 non-null    float64\n",
            " 4   species       150 non-null    object \n",
            "dtypes: float64(4), object(1)\n",
            "memory usage: 6.0+ KB\n"
          ]
        }
      ]
    },
    {
      "cell_type": "code",
      "source": [
        "df.shape"
      ],
      "metadata": {
        "colab": {
          "base_uri": "https://localhost:8080/"
        },
        "id": "r2FDVTBcKKBI",
        "outputId": "20a5c36e-798e-4b9b-90f4-6f8a5c184486"
      },
      "execution_count": null,
      "outputs": [
        {
          "output_type": "execute_result",
          "data": {
            "text/plain": [
              "(150, 5)"
            ]
          },
          "metadata": {},
          "execution_count": 5
        }
      ]
    },
    {
      "cell_type": "markdown",
      "source": [
        "4. Visualize some sample images of the dataset using Matplotlib\n",
        "\n"
      ],
      "metadata": {
        "id": "1JT1N9X-KO1G"
      }
    },
    {
      "cell_type": "code",
      "source": [
        "import matplotlib.pyplot as plt\n",
        "plt.xlabel('Sepal Length')\n",
        "plt.ylabel('Sepal Width')\n",
        "plt.scatter(df['sepal_length'], df['sepal_width'],color=\"red\",marker='+')"
      ],
      "metadata": {
        "colab": {
          "base_uri": "https://localhost:8080/",
          "height": 469
        },
        "id": "xa2NnL9pKPl_",
        "outputId": "69c040f4-62ca-49fc-b7b7-deb65f9b7492"
      },
      "execution_count": null,
      "outputs": [
        {
          "output_type": "execute_result",
          "data": {
            "text/plain": [
              "<matplotlib.collections.PathCollection at 0x7beb3a56add0>"
            ]
          },
          "metadata": {},
          "execution_count": 6
        },
        {
          "output_type": "display_data",
          "data": {
            "text/plain": [
              "<Figure size 640x480 with 1 Axes>"
            ],
            "image/png": "[encoded data removed]"
          },
          "metadata": {}
        }
      ]
    },
    {
      "cell_type": "code",
      "source": [
        "plt.xlabel('Petal Length')\n",
        "plt.ylabel('Petal Width')\n",
        "plt.scatter(df['petal_length'], df['petal_width'],color=\"green\",marker='+')"
      ],
      "metadata": {
        "colab": {
          "base_uri": "https://localhost:8080/",
          "height": 466
        },
        "id": "c0Bd0LmFKmeF",
        "outputId": "4dfb5375-88f6-479a-de4c-c8c099d914e9"
      },
      "execution_count": null,
      "outputs": [
        {
          "output_type": "execute_result",
          "data": {
            "text/plain": [
              "<matplotlib.collections.PathCollection at 0x7beb3813bbe0>"
            ]
          },
          "metadata": {},
          "execution_count": 9
        },
        {
          "output_type": "display_data",
          "data": {
            "text/plain": [
              "<Figure size 640x480 with 1 Axes>"
            ],
            "image/png": "[encoded data removed]"
          },
          "metadata": {}
        }
      ]
    },
    {
      "cell_type": "code",
      "source": [
        "import seaborn as sns\n",
        "sns.set(style=\"whitegrid\")\n",
        "species_counts = df['species'].value_counts()\n",
        "plt.figure(figsize=(8, 6))\n",
        "sns.barplot(x=species_counts.index, y=species_counts.values, palette=\"viridis\")\n",
        "plt.xlabel(\"Species\")\n",
        "plt.ylabel(\"Count\")\n",
        "plt.show()"
      ],
      "metadata": {
        "colab": {
          "base_uri": "https://localhost:8080/",
          "height": 550
        },
        "id": "rc8qMuDEKqkK",
        "outputId": "5cb73aa3-96be-4b71-f20a-1c2d581d33db"
      },
      "execution_count": null,
      "outputs": [
        {
          "output_type": "display_data",
          "data": {
            "text/plain": [
              "<Figure size 800x600 with 1 Axes>"
            ],
            "image/png": "[encoded data removed]"
          },
          "metadata": {}
        }
      ]
    },
    {
      "cell_type": "markdown",
      "source": [
        "5. Preprocess the dataset as necessary, for example, splitting, scaling, normalizing, etc.\n",
        "\n",
        "\n"
      ],
      "metadata": {
        "id": "M_HPoOvztiod"
      }
    },
    {
      "cell_type": "markdown",
      "source": [],
      "metadata": {
        "id": "WNimI4PdKu8u"
      }
    },
    {
      "cell_type": "code",
      "source": [
        "X = df.iloc[:, 0:4]"
      ],
      "metadata": {
        "id": "d-RNUMc7Kv4r"
      },
      "execution_count": null,
      "outputs": []
    },
    {
      "cell_type": "code",
      "source": [
        "y = df.iloc[:, 4]\n"
      ],
      "metadata": {
        "id": "X8T2muScK56M"
      },
      "execution_count": null,
      "outputs": []
    },
    {
      "cell_type": "code",
      "source": [
        "from sklearn.model_selection import train_test_split\n",
        "X_train, X_test, y_train, y_test = train_test_split(\n",
        "X,\n",
        "y,\n",
        "test_size=0.20,\n",
        "random_state=25,\n",
        ")"
      ],
      "metadata": {
        "id": "eAk9YuJrLRyU"
      },
      "execution_count": null,
      "outputs": []
    },
    {
      "cell_type": "code",
      "source": [
        "from sklearn.preprocessing import StandardScaler\n",
        "scaler = StandardScaler()\n",
        "X_train_standardized = scaler.fit_transform(X_train)\n",
        "X_test_standardized = scaler.transform(X_test)"
      ],
      "metadata": {
        "id": "lXAoFiKeUn5z"
      },
      "execution_count": null,
      "outputs": []
    },
    {
      "cell_type": "markdown",
      "source": [
        "6. Train Logistic Regression, Support Vector Machine, and Decision Tree algorithm on the dataset.\n"
      ],
      "metadata": {
        "id": "kuORNMx5Us1N"
      }
    },
    {
      "cell_type": "code",
      "source": [
        "from sklearn.linear_model import SGDClassifier\n",
        "\n",
        "model_regression = SGDClassifier(\n",
        "    loss='squared_error',\n",
        "    penalty='l1',\n",
        "    alpha=0.5,\n",
        "    fit_intercept=True,\n",
        "    learning_rate='constant',\n",
        "    eta0=0.01,\n",
        "    early_stopping=True,\n",
        "    n_iter_no_change=20,\n",
        "    tol=1e-3,\n",
        ")\n",
        "\n",
        "model_regression.fit(X_train, y_train)"
      ],
      "metadata": {
        "colab": {
          "base_uri": "https://localhost:8080/",
          "height": 109
        },
        "id": "czkFnlKFUxxR",
        "outputId": "70ba1e45-2a00-4e13-a2c0-0eedfd49caba"
      },
      "execution_count": null,
      "outputs": [
        {
          "output_type": "execute_result",
          "data": {
            "text/plain": [
              "SGDClassifier(alpha=0.5, early_stopping=True, eta0=0.01,\n",
              "              learning_rate='constant', loss='squared_error',\n",
              "              n_iter_no_change=20, penalty='l1')"
            ],
            "text/html": [
              "<style>#sk-container-id-5 {color: black;background-color: white;}#sk-container-id-5 pre{padding: 0;}#sk-container-id-5 div.sk-toggleable {background-color: white;}#sk-container-id-5 label.sk-toggleable__label {cursor: pointer;display: block;width: 100%;margin-bottom: 0;padding: 0.3em;box-sizing: border-box;text-align: center;}#sk-container-id-5 label.sk-toggleable__label-arrow:before {content: \"▸\";float: left;margin-right: 0.25em;color: #696969;}#sk-container-id-5 label.sk-toggleable__label-arrow:hover:before {color: black;}#sk-container-id-5 div.sk-estimator:hover label.sk-toggleable__label-arrow:before {color: black;}#sk-container-id-5 div.sk-toggleable__content {max-height: 0;max-width: 0;overflow: hidden;text-align: left;background-color: #f0f8ff;}#sk-container-id-5 div.sk-toggleable__content pre {margin: 0.2em;color: black;border-radius: 0.25em;background-color: #f0f8ff;}#sk-container-id-5 input.sk-toggleable__control:checked~div.sk-toggleable__content {max-height: 200px;max-width: 100%;overflow: auto;}#sk-container-id-5 input.sk-toggleable__control:checked~label.sk-toggleable__label-arrow:before {content: \"▾\";}#sk-container-id-5 div.sk-estimator input.sk-toggleable__control:checked~label.sk-toggleable__label {background-color: #d4ebff;}#sk-container-id-5 div.sk-label input.sk-toggleable__control:checked~label.sk-toggleable__label {background-color: #d4ebff;}#sk-container-id-5 input.sk-hidden--visually {border: 0;clip: rect(1px 1px 1px 1px);clip: rect(1px, 1px, 1px, 1px);height: 1px;margin: -1px;overflow: hidden;padding: 0;position: absolute;width: 1px;}#sk-container-id-5 div.sk-estimator {font-family: monospace;background-color: #f0f8ff;border: 1px dotted black;border-radius: 0.25em;box-sizing: border-box;margin-bottom: 0.5em;}#sk-container-id-5 div.sk-estimator:hover {background-color: #d4ebff;}#sk-container-id-5 div.sk-parallel-item::after {content: \"\";width: 100%;border-bottom: 1px solid gray;flex-grow: 1;}#sk-container-id-5 div.sk-label:hover label.sk-toggleable__label {background-color: #d4ebff;}#sk-container-id-5 div.sk-serial::before {content: \"\";position: absolute;border-left: 1px solid gray;box-sizing: border-box;top: 0;bottom: 0;left: 50%;z-index: 0;}#sk-container-id-5 div.sk-serial {display: flex;flex-direction: column;align-items: center;background-color: white;padding-right: 0.2em;padding-left: 0.2em;position: relative;}#sk-container-id-5 div.sk-item {position: relative;z-index: 1;}#sk-container-id-5 div.sk-parallel {display: flex;align-items: stretch;justify-content: center;background-color: white;position: relative;}#sk-container-id-5 div.sk-item::before, #sk-container-id-5 div.sk-parallel-item::before {content: \"\";position: absolute;border-left: 1px solid gray;box-sizing: border-box;top: 0;bottom: 0;left: 50%;z-index: -1;}#sk-container-id-5 div.sk-parallel-item {display: flex;flex-direction: column;z-index: 1;position: relative;background-color: white;}#sk-container-id-5 div.sk-parallel-item:first-child::after {align-self: flex-end;width: 50%;}#sk-container-id-5 div.sk-parallel-item:last-child::after {align-self: flex-start;width: 50%;}#sk-container-id-5 div.sk-parallel-item:only-child::after {width: 0;}#sk-container-id-5 div.sk-dashed-wrapped {border: 1px dashed gray;margin: 0 0.4em 0.5em 0.4em;box-sizing: border-box;padding-bottom: 0.4em;background-color: white;}#sk-container-id-5 div.sk-label label {font-family: monospace;font-weight: bold;display: inline-block;line-height: 1.2em;}#sk-container-id-5 div.sk-label-container {text-align: center;}#sk-container-id-5 div.sk-container {/* jupyter's `normalize.less` sets `[hidden] { display: none; }` but bootstrap.min.css set `[hidden] { display: none !important; }` so we also need the `!important` here to be able to override the default hidden behavior on the sphinx rendered scikit-learn.org. See: https://github.com/scikit-learn/scikit-learn/issues/21755 */display: inline-block !important;position: relative;}#sk-container-id-5 div.sk-text-repr-fallback {display: none;}</style><div id=\"sk-container-id-5\" class=\"sk-top-container\"><div class=\"sk-text-repr-fallback\"><pre>SGDClassifier(alpha=0.5, early_stopping=True, eta0=0.01,\n",
              "              learning_rate=&#x27;constant&#x27;, loss=&#x27;squared_error&#x27;,\n",
              "              n_iter_no_change=20, penalty=&#x27;l1&#x27;)</pre><b>In a Jupyter environment, please rerun this cell to show the HTML representation or trust the notebook. <br />On GitHub, the HTML representation is unable to render, please try loading this page with nbviewer.org.</b></div><div class=\"sk-container\" hidden><div class=\"sk-item\"><div class=\"sk-estimator sk-toggleable\"><input class=\"sk-toggleable__control sk-hidden--visually\" id=\"sk-estimator-id-5\" type=\"checkbox\" checked><label for=\"sk-estimator-id-5\" class=\"sk-toggleable__label sk-toggleable__label-arrow\">SGDClassifier</label><div class=\"sk-toggleable__content\"><pre>SGDClassifier(alpha=0.5, early_stopping=True, eta0=0.01,\n",
              "              learning_rate=&#x27;constant&#x27;, loss=&#x27;squared_error&#x27;,\n",
              "              n_iter_no_change=20, penalty=&#x27;l1&#x27;)</pre></div></div></div></div></div>"
            ]
          },
          "metadata": {},
          "execution_count": 37
        }
      ]
    },
    {
      "cell_type": "code",
      "source": [
        "from sklearn.svm import SVC\n",
        "model_svm = SVC(kernel='poly', C=1, random_state=25)\n",
        "model_svm.fit(X_train, y_train)"
      ],
      "metadata": {
        "colab": {
          "base_uri": "https://localhost:8080/",
          "height": 74
        },
        "id": "6fCtlHnTar_n",
        "outputId": "d8495071-36e8-43ae-caba-c67ff74bc96c"
      },
      "execution_count": null,
      "outputs": [
        {
          "output_type": "execute_result",
          "data": {
            "text/plain": [
              "SVC(C=1, kernel='poly', random_state=25)"
            ],
            "text/html": [
              "<style>#sk-container-id-6 {color: black;background-color: white;}#sk-container-id-6 pre{padding: 0;}#sk-container-id-6 div.sk-toggleable {background-color: white;}#sk-container-id-6 label.sk-toggleable__label {cursor: pointer;display: block;width: 100%;margin-bottom: 0;padding: 0.3em;box-sizing: border-box;text-align: center;}#sk-container-id-6 label.sk-toggleable__label-arrow:before {content: \"▸\";float: left;margin-right: 0.25em;color: #696969;}#sk-container-id-6 label.sk-toggleable__label-arrow:hover:before {color: black;}#sk-container-id-6 div.sk-estimator:hover label.sk-toggleable__label-arrow:before {color: black;}#sk-container-id-6 div.sk-toggleable__content {max-height: 0;max-width: 0;overflow: hidden;text-align: left;background-color: #f0f8ff;}#sk-container-id-6 div.sk-toggleable__content pre {margin: 0.2em;color: black;border-radius: 0.25em;background-color: #f0f8ff;}#sk-container-id-6 input.sk-toggleable__control:checked~div.sk-toggleable__content {max-height: 200px;max-width: 100%;overflow: auto;}#sk-container-id-6 input.sk-toggleable__control:checked~label.sk-toggleable__label-arrow:before {content: \"▾\";}#sk-container-id-6 div.sk-estimator input.sk-toggleable__control:checked~label.sk-toggleable__label {background-color: #d4ebff;}#sk-container-id-6 div.sk-label input.sk-toggleable__control:checked~label.sk-toggleable__label {background-color: #d4ebff;}#sk-container-id-6 input.sk-hidden--visually {border: 0;clip: rect(1px 1px 1px 1px);clip: rect(1px, 1px, 1px, 1px);height: 1px;margin: -1px;overflow: hidden;padding: 0;position: absolute;width: 1px;}#sk-container-id-6 div.sk-estimator {font-family: monospace;background-color: #f0f8ff;border: 1px dotted black;border-radius: 0.25em;box-sizing: border-box;margin-bottom: 0.5em;}#sk-container-id-6 div.sk-estimator:hover {background-color: #d4ebff;}#sk-container-id-6 div.sk-parallel-item::after {content: \"\";width: 100%;border-bottom: 1px solid gray;flex-grow: 1;}#sk-container-id-6 div.sk-label:hover label.sk-toggleable__label {background-color: #d4ebff;}#sk-container-id-6 div.sk-serial::before {content: \"\";position: absolute;border-left: 1px solid gray;box-sizing: border-box;top: 0;bottom: 0;left: 50%;z-index: 0;}#sk-container-id-6 div.sk-serial {display: flex;flex-direction: column;align-items: center;background-color: white;padding-right: 0.2em;padding-left: 0.2em;position: relative;}#sk-container-id-6 div.sk-item {position: relative;z-index: 1;}#sk-container-id-6 div.sk-parallel {display: flex;align-items: stretch;justify-content: center;background-color: white;position: relative;}#sk-container-id-6 div.sk-item::before, #sk-container-id-6 div.sk-parallel-item::before {content: \"\";position: absolute;border-left: 1px solid gray;box-sizing: border-box;top: 0;bottom: 0;left: 50%;z-index: -1;}#sk-container-id-6 div.sk-parallel-item {display: flex;flex-direction: column;z-index: 1;position: relative;background-color: white;}#sk-container-id-6 div.sk-parallel-item:first-child::after {align-self: flex-end;width: 50%;}#sk-container-id-6 div.sk-parallel-item:last-child::after {align-self: flex-start;width: 50%;}#sk-container-id-6 div.sk-parallel-item:only-child::after {width: 0;}#sk-container-id-6 div.sk-dashed-wrapped {border: 1px dashed gray;margin: 0 0.4em 0.5em 0.4em;box-sizing: border-box;padding-bottom: 0.4em;background-color: white;}#sk-container-id-6 div.sk-label label {font-family: monospace;font-weight: bold;display: inline-block;line-height: 1.2em;}#sk-container-id-6 div.sk-label-container {text-align: center;}#sk-container-id-6 div.sk-container {/* jupyter's `normalize.less` sets `[hidden] { display: none; }` but bootstrap.min.css set `[hidden] { display: none !important; }` so we also need the `!important` here to be able to override the default hidden behavior on the sphinx rendered scikit-learn.org. See: https://github.com/scikit-learn/scikit-learn/issues/21755 */display: inline-block !important;position: relative;}#sk-container-id-6 div.sk-text-repr-fallback {display: none;}</style><div id=\"sk-container-id-6\" class=\"sk-top-container\"><div class=\"sk-text-repr-fallback\"><pre>SVC(C=1, kernel=&#x27;poly&#x27;, random_state=25)</pre><b>In a Jupyter environment, please rerun this cell to show the HTML representation or trust the notebook. <br />On GitHub, the HTML representation is unable to render, please try loading this page with nbviewer.org.</b></div><div class=\"sk-container\" hidden><div class=\"sk-item\"><div class=\"sk-estimator sk-toggleable\"><input class=\"sk-toggleable__control sk-hidden--visually\" id=\"sk-estimator-id-6\" type=\"checkbox\" checked><label for=\"sk-estimator-id-6\" class=\"sk-toggleable__label sk-toggleable__label-arrow\">SVC</label><div class=\"sk-toggleable__content\"><pre>SVC(C=1, kernel=&#x27;poly&#x27;, random_state=25)</pre></div></div></div></div></div>"
            ]
          },
          "metadata": {},
          "execution_count": 38
        }
      ]
    },
    {
      "cell_type": "code",
      "source": [
        "from sklearn.tree import DecisionTreeClassifier\n",
        "model_tree = DecisionTreeClassifier(\n",
        "criterion='gini',\n",
        "splitter='best',\n",
        "min_samples_split=3,\n",
        "min_samples_leaf=1,\n",
        ")\n",
        "model_tree.fit(X_train, y_train)"
      ],
      "metadata": {
        "colab": {
          "base_uri": "https://localhost:8080/",
          "height": 74
        },
        "id": "tXoVg0muayDZ",
        "outputId": "265c63e5-4f18-48e3-c473-904e498d30e9"
      },
      "execution_count": null,
      "outputs": [
        {
          "output_type": "execute_result",
          "data": {
            "text/plain": [
              "DecisionTreeClassifier(min_samples_split=3)"
            ],
            "text/html": [
              "<style>#sk-container-id-7 {color: black;background-color: white;}#sk-container-id-7 pre{padding: 0;}#sk-container-id-7 div.sk-toggleable {background-color: white;}#sk-container-id-7 label.sk-toggleable__label {cursor: pointer;display: block;width: 100%;margin-bottom: 0;padding: 0.3em;box-sizing: border-box;text-align: center;}#sk-container-id-7 label.sk-toggleable__label-arrow:before {content: \"▸\";float: left;margin-right: 0.25em;color: #696969;}#sk-container-id-7 label.sk-toggleable__label-arrow:hover:before {color: black;}#sk-container-id-7 div.sk-estimator:hover label.sk-toggleable__label-arrow:before {color: black;}#sk-container-id-7 div.sk-toggleable__content {max-height: 0;max-width: 0;overflow: hidden;text-align: left;background-color: #f0f8ff;}#sk-container-id-7 div.sk-toggleable__content pre {margin: 0.2em;color: black;border-radius: 0.25em;background-color: #f0f8ff;}#sk-container-id-7 input.sk-toggleable__control:checked~div.sk-toggleable__content {max-height: 200px;max-width: 100%;overflow: auto;}#sk-container-id-7 input.sk-toggleable__control:checked~label.sk-toggleable__label-arrow:before {content: \"▾\";}#sk-container-id-7 div.sk-estimator input.sk-toggleable__control:checked~label.sk-toggleable__label {background-color: #d4ebff;}#sk-container-id-7 div.sk-label input.sk-toggleable__control:checked~label.sk-toggleable__label {background-color: #d4ebff;}#sk-container-id-7 input.sk-hidden--visually {border: 0;clip: rect(1px 1px 1px 1px);clip: rect(1px, 1px, 1px, 1px);height: 1px;margin: -1px;overflow: hidden;padding: 0;position: absolute;width: 1px;}#sk-container-id-7 div.sk-estimator {font-family: monospace;background-color: #f0f8ff;border: 1px dotted black;border-radius: 0.25em;box-sizing: border-box;margin-bottom: 0.5em;}#sk-container-id-7 div.sk-estimator:hover {background-color: #d4ebff;}#sk-container-id-7 div.sk-parallel-item::after {content: \"\";width: 100%;border-bottom: 1px solid gray;flex-grow: 1;}#sk-container-id-7 div.sk-label:hover label.sk-toggleable__label {background-color: #d4ebff;}#sk-container-id-7 div.sk-serial::before {content: \"\";position: absolute;border-left: 1px solid gray;box-sizing: border-box;top: 0;bottom: 0;left: 50%;z-index: 0;}#sk-container-id-7 div.sk-serial {display: flex;flex-direction: column;align-items: center;background-color: white;padding-right: 0.2em;padding-left: 0.2em;position: relative;}#sk-container-id-7 div.sk-item {position: relative;z-index: 1;}#sk-container-id-7 div.sk-parallel {display: flex;align-items: stretch;justify-content: center;background-color: white;position: relative;}#sk-container-id-7 div.sk-item::before, #sk-container-id-7 div.sk-parallel-item::before {content: \"\";position: absolute;border-left: 1px solid gray;box-sizing: border-box;top: 0;bottom: 0;left: 50%;z-index: -1;}#sk-container-id-7 div.sk-parallel-item {display: flex;flex-direction: column;z-index: 1;position: relative;background-color: white;}#sk-container-id-7 div.sk-parallel-item:first-child::after {align-self: flex-end;width: 50%;}#sk-container-id-7 div.sk-parallel-item:last-child::after {align-self: flex-start;width: 50%;}#sk-container-id-7 div.sk-parallel-item:only-child::after {width: 0;}#sk-container-id-7 div.sk-dashed-wrapped {border: 1px dashed gray;margin: 0 0.4em 0.5em 0.4em;box-sizing: border-box;padding-bottom: 0.4em;background-color: white;}#sk-container-id-7 div.sk-label label {font-family: monospace;font-weight: bold;display: inline-block;line-height: 1.2em;}#sk-container-id-7 div.sk-label-container {text-align: center;}#sk-container-id-7 div.sk-container {/* jupyter's `normalize.less` sets `[hidden] { display: none; }` but bootstrap.min.css set `[hidden] { display: none !important; }` so we also need the `!important` here to be able to override the default hidden behavior on the sphinx rendered scikit-learn.org. See: https://github.com/scikit-learn/scikit-learn/issues/21755 */display: inline-block !important;position: relative;}#sk-container-id-7 div.sk-text-repr-fallback {display: none;}</style><div id=\"sk-container-id-7\" class=\"sk-top-container\"><div class=\"sk-text-repr-fallback\"><pre>DecisionTreeClassifier(min_samples_split=3)</pre><b>In a Jupyter environment, please rerun this cell to show the HTML representation or trust the notebook. <br />On GitHub, the HTML representation is unable to render, please try loading this page with nbviewer.org.</b></div><div class=\"sk-container\" hidden><div class=\"sk-item\"><div class=\"sk-estimator sk-toggleable\"><input class=\"sk-toggleable__control sk-hidden--visually\" id=\"sk-estimator-id-7\" type=\"checkbox\" checked><label for=\"sk-estimator-id-7\" class=\"sk-toggleable__label sk-toggleable__label-arrow\">DecisionTreeClassifier</label><div class=\"sk-toggleable__content\"><pre>DecisionTreeClassifier(min_samples_split=3)</pre></div></div></div></div></div>"
            ]
          },
          "metadata": {},
          "execution_count": 39
        }
      ]
    },
    {
      "cell_type": "markdown",
      "source": [
        "7. Use hyperparameter tuning techniques to select the best hyperparameters of the respective models, and finally select the best model\n",
        "of each kind.\n",
        "\n"
      ],
      "metadata": {
        "id": "tETnbW80a5y7"
      }
    },
    {
      "cell_type": "code",
      "source": [
        "from sklearn.model_selection import RandomizedSearchCV\n",
        "from scipy.stats import uniform, randint\n",
        "param = {\n",
        "'loss': ['hinge', 'log_loss', 'squared_hinge'],\n",
        "'penalty': ['l2', 'l1', 'elasticnet'],\n",
        "'alpha': uniform(0.0001, 0.1),\n",
        "'fit_intercept': [True, False],\n",
        "'learning_rate': ['constant', 'optimal', 'invscaling', 'adaptive'],\n",
        "'eta0': uniform(0.001, 0.5),\n",
        "'tol': [1e-6, 1e-5, 1e-4],\n",
        "'early_stopping': [True, False],\n",
        "'n_iter_no_change': randint(5, 20)\n",
        "}\n",
        "random_sgd = RandomizedSearchCV(\n",
        "SGDClassifier(max_iter=10000),\n",
        "param_distributions=param,\n",
        "n_iter=10,\n",
        "scoring=\"accuracy\",\n",
        "cv=5,\n",
        ")\n",
        "random_sgd.fit(X_train, y_train)\n",
        "best_sgd = random_sgd.best_estimator_"
      ],
      "metadata": {
        "id": "HDts6kSqa61R"
      },
      "execution_count": null,
      "outputs": []
    },
    {
      "cell_type": "code",
      "source": [
        "param = {\n",
        "'C': uniform(0.1, 100),\n",
        "'kernel': ['linear', 'poly', 'rbf', 'sigmoid'],\n",
        "'gamma': ['scale', 'auto', 0.1, 1, 10],\n",
        "'degree': randint(2, 5),\n",
        "'coef0': uniform(0.0, 1.0)\n",
        "}\n",
        "random_svm = RandomizedSearchCV(\n",
        "SVC(),\n",
        "param_distributions=param,\n",
        "verbose=2,\n",
        "scoring=\"accuracy\",\n",
        "n_iter=10,\n",
        "cv=5,\n",
        ")\n",
        "random_svm.fit(X_train, y_train)\n",
        "best_svm = random_svm.best_estimator_"
      ],
      "metadata": {
        "colab": {
          "base_uri": "https://localhost:8080/"
        },
        "id": "J2-EgZQybC0J",
        "outputId": "f3f902fc-507f-457d-d393-745bc2751218"
      },
      "execution_count": null,
      "outputs": [
        {
          "output_type": "stream",
          "name": "stdout",
          "text": [
            "Fitting 5 folds for each of 10 candidates, totalling 50 fits\n",
            "[CV] END C=63.63907957123094, coef0=0.7790749775124951, degree=2, gamma=0.1, kernel=sigmoid; total time=   0.0s\n",
            "[CV] END C=63.63907957123094, coef0=0.7790749775124951, degree=2, gamma=0.1, kernel=sigmoid; total time=   0.0s\n",
            "[CV] END C=63.63907957123094, coef0=0.7790749775124951, degree=2, gamma=0.1, kernel=sigmoid; total time=   0.0s\n",
            "[CV] END C=63.63907957123094, coef0=0.7790749775124951, degree=2, gamma=0.1, kernel=sigmoid; total time=   0.0s\n",
            "[CV] END C=63.63907957123094, coef0=0.7790749775124951, degree=2, gamma=0.1, kernel=sigmoid; total time=   0.1s\n",
            "[CV] END C=8.355379304776234, coef0=0.4022891295540003, degree=3, gamma=10, kernel=rbf; total time=   0.0s\n",
            "[CV] END C=8.355379304776234, coef0=0.4022891295540003, degree=3, gamma=10, kernel=rbf; total time=   0.1s\n",
            "[CV] END C=8.355379304776234, coef0=0.4022891295540003, degree=3, gamma=10, kernel=rbf; total time=   0.0s\n",
            "[CV] END C=8.355379304776234, coef0=0.4022891295540003, degree=3, gamma=10, kernel=rbf; total time=   0.1s\n",
            "[CV] END C=8.355379304776234, coef0=0.4022891295540003, degree=3, gamma=10, kernel=rbf; total time=   0.1s\n",
            "[CV] END C=7.1410497955961105, coef0=0.7025390191010992, degree=3, gamma=scale, kernel=linear; total time=   0.1s\n",
            "[CV] END C=7.1410497955961105, coef0=0.7025390191010992, degree=3, gamma=scale, kernel=linear; total time=   0.1s\n",
            "[CV] END C=7.1410497955961105, coef0=0.7025390191010992, degree=3, gamma=scale, kernel=linear; total time=   0.1s\n",
            "[CV] END C=7.1410497955961105, coef0=0.7025390191010992, degree=3, gamma=scale, kernel=linear; total time=   0.1s\n",
            "[CV] END C=7.1410497955961105, coef0=0.7025390191010992, degree=3, gamma=scale, kernel=linear; total time=   0.0s\n",
            "[CV] END C=32.66085709487325, coef0=0.5956965495151095, degree=3, gamma=scale, kernel=rbf; total time=   0.0s\n",
            "[CV] END C=32.66085709487325, coef0=0.5956965495151095, degree=3, gamma=scale, kernel=rbf; total time=   0.0s\n",
            "[CV] END C=32.66085709487325, coef0=0.5956965495151095, degree=3, gamma=scale, kernel=rbf; total time=   0.0s\n",
            "[CV] END C=32.66085709487325, coef0=0.5956965495151095, degree=3, gamma=scale, kernel=rbf; total time=   0.0s\n",
            "[CV] END C=32.66085709487325, coef0=0.5956965495151095, degree=3, gamma=scale, kernel=rbf; total time=   0.0s\n",
            "[CV] END C=70.9058532015953, coef0=0.2729338771780876, degree=2, gamma=scale, kernel=linear; total time=   0.0s\n",
            "[CV] END C=70.9058532015953, coef0=0.2729338771780876, degree=2, gamma=scale, kernel=linear; total time=   0.0s\n",
            "[CV] END C=70.9058532015953, coef0=0.2729338771780876, degree=2, gamma=scale, kernel=linear; total time=   0.0s\n",
            "[CV] END C=70.9058532015953, coef0=0.2729338771780876, degree=2, gamma=scale, kernel=linear; total time=   0.0s\n",
            "[CV] END C=70.9058532015953, coef0=0.2729338771780876, degree=2, gamma=scale, kernel=linear; total time=   0.1s\n",
            "[CV] END C=87.12373503638256, coef0=0.3816556425434844, degree=3, gamma=10, kernel=sigmoid; total time=   0.0s\n",
            "[CV] END C=87.12373503638256, coef0=0.3816556425434844, degree=3, gamma=10, kernel=sigmoid; total time=   0.0s\n",
            "[CV] END C=87.12373503638256, coef0=0.3816556425434844, degree=3, gamma=10, kernel=sigmoid; total time=   0.0s\n",
            "[CV] END C=87.12373503638256, coef0=0.3816556425434844, degree=3, gamma=10, kernel=sigmoid; total time=   0.0s\n",
            "[CV] END C=87.12373503638256, coef0=0.3816556425434844, degree=3, gamma=10, kernel=sigmoid; total time=   0.1s\n",
            "[CV] END C=33.88169445680601, coef0=0.07110433540824257, degree=2, gamma=1, kernel=sigmoid; total time=   0.1s\n",
            "[CV] END C=33.88169445680601, coef0=0.07110433540824257, degree=2, gamma=1, kernel=sigmoid; total time=   0.1s\n",
            "[CV] END C=33.88169445680601, coef0=0.07110433540824257, degree=2, gamma=1, kernel=sigmoid; total time=   0.0s\n",
            "[CV] END C=33.88169445680601, coef0=0.07110433540824257, degree=2, gamma=1, kernel=sigmoid; total time=   0.0s\n",
            "[CV] END C=33.88169445680601, coef0=0.07110433540824257, degree=2, gamma=1, kernel=sigmoid; total time=   0.1s\n",
            "[CV] END C=25.569202073896648, coef0=0.47833851101024494, degree=2, gamma=scale, kernel=rbf; total time=   0.0s\n",
            "[CV] END C=25.569202073896648, coef0=0.47833851101024494, degree=2, gamma=scale, kernel=rbf; total time=   0.0s\n",
            "[CV] END C=25.569202073896648, coef0=0.47833851101024494, degree=2, gamma=scale, kernel=rbf; total time=   0.0s\n",
            "[CV] END C=25.569202073896648, coef0=0.47833851101024494, degree=2, gamma=scale, kernel=rbf; total time=   0.0s\n",
            "[CV] END C=25.569202073896648, coef0=0.47833851101024494, degree=2, gamma=scale, kernel=rbf; total time=   0.0s\n",
            "[CV] END C=29.662391598846774, coef0=0.06204040278392242, degree=3, gamma=auto, kernel=rbf; total time=   0.0s\n",
            "[CV] END C=29.662391598846774, coef0=0.06204040278392242, degree=3, gamma=auto, kernel=rbf; total time=   0.0s\n",
            "[CV] END C=29.662391598846774, coef0=0.06204040278392242, degree=3, gamma=auto, kernel=rbf; total time=   0.0s\n",
            "[CV] END C=29.662391598846774, coef0=0.06204040278392242, degree=3, gamma=auto, kernel=rbf; total time=   0.0s\n",
            "[CV] END C=29.662391598846774, coef0=0.06204040278392242, degree=3, gamma=auto, kernel=rbf; total time=   0.0s\n",
            "[CV] END C=33.508499013265556, coef0=0.550072688164107, degree=2, gamma=scale, kernel=sigmoid; total time=   0.0s\n",
            "[CV] END C=33.508499013265556, coef0=0.550072688164107, degree=2, gamma=scale, kernel=sigmoid; total time=   0.0s\n",
            "[CV] END C=33.508499013265556, coef0=0.550072688164107, degree=2, gamma=scale, kernel=sigmoid; total time=   0.0s\n",
            "[CV] END C=33.508499013265556, coef0=0.550072688164107, degree=2, gamma=scale, kernel=sigmoid; total time=   0.0s\n",
            "[CV] END C=33.508499013265556, coef0=0.550072688164107, degree=2, gamma=scale, kernel=sigmoid; total time=   0.0s\n"
          ]
        }
      ]
    },
    {
      "cell_type": "code",
      "source": [
        "param = {\n",
        "\"criterion\": (\"gini\", \"entropy\", \"log_loss\"),\n",
        "\"splitter\": (\"best\", \"random\"),\n",
        "\"max_depth\": (list(range(1, 20))),\n",
        "\"min_samples_split\": list(range(2, 20)),\n",
        "\"min_samples_leaf\": list(range(1, 20)),\n",
        "}\n",
        "random_dt = RandomizedSearchCV(\n",
        "DecisionTreeClassifier(random_state=25),\n",
        "param_distributions=param,\n",
        "verbose=2,\n",
        "n_iter=10,\n",
        "scoring=\"accuracy\",\n",
        "cv=5,\n",
        ")\n",
        "random_dt.fit(X_train, y_train)\n",
        "best_dt = random_dt.best_estimator_"
      ],
      "metadata": {
        "colab": {
          "base_uri": "https://localhost:8080/"
        },
        "id": "vd9i4R8dbGiC",
        "outputId": "d884442c-f447-4682-fb6f-6c9dfb9654dd"
      },
      "execution_count": null,
      "outputs": [
        {
          "output_type": "stream",
          "name": "stdout",
          "text": [
            "Fitting 5 folds for each of 10 candidates, totalling 50 fits\n",
            "[CV] END criterion=entropy, max_depth=9, min_samples_leaf=2, min_samples_split=2, splitter=random; total time=   0.0s\n",
            "[CV] END criterion=entropy, max_depth=9, min_samples_leaf=2, min_samples_split=2, splitter=random; total time=   0.0s\n",
            "[CV] END criterion=entropy, max_depth=9, min_samples_leaf=2, min_samples_split=2, splitter=random; total time=   0.0s\n",
            "[CV] END criterion=entropy, max_depth=9, min_samples_leaf=2, min_samples_split=2, splitter=random; total time=   0.0s\n",
            "[CV] END criterion=entropy, max_depth=9, min_samples_leaf=2, min_samples_split=2, splitter=random; total time=   0.0s\n",
            "[CV] END criterion=gini, max_depth=12, min_samples_leaf=7, min_samples_split=2, splitter=random; total time=   0.0s\n",
            "[CV] END criterion=gini, max_depth=12, min_samples_leaf=7, min_samples_split=2, splitter=random; total time=   0.0s\n",
            "[CV] END criterion=gini, max_depth=12, min_samples_leaf=7, min_samples_split=2, splitter=random; total time=   0.0s\n",
            "[CV] END criterion=gini, max_depth=12, min_samples_leaf=7, min_samples_split=2, splitter=random; total time=   0.0s\n",
            "[CV] END criterion=gini, max_depth=12, min_samples_leaf=7, min_samples_split=2, splitter=random; total time=   0.0s\n",
            "[CV] END criterion=log_loss, max_depth=14, min_samples_leaf=15, min_samples_split=12, splitter=random; total time=   0.0s\n",
            "[CV] END criterion=log_loss, max_depth=14, min_samples_leaf=15, min_samples_split=12, splitter=random; total time=   0.0s\n",
            "[CV] END criterion=log_loss, max_depth=14, min_samples_leaf=15, min_samples_split=12, splitter=random; total time=   0.0s\n",
            "[CV] END criterion=log_loss, max_depth=14, min_samples_leaf=15, min_samples_split=12, splitter=random; total time=   0.0s\n",
            "[CV] END criterion=log_loss, max_depth=14, min_samples_leaf=15, min_samples_split=12, splitter=random; total time=   0.0s\n",
            "[CV] END criterion=entropy, max_depth=15, min_samples_leaf=13, min_samples_split=2, splitter=best; total time=   0.0s\n",
            "[CV] END criterion=entropy, max_depth=15, min_samples_leaf=13, min_samples_split=2, splitter=best; total time=   0.0s\n",
            "[CV] END criterion=entropy, max_depth=15, min_samples_leaf=13, min_samples_split=2, splitter=best; total time=   0.0s\n",
            "[CV] END criterion=entropy, max_depth=15, min_samples_leaf=13, min_samples_split=2, splitter=best; total time=   0.0s\n",
            "[CV] END criterion=entropy, max_depth=15, min_samples_leaf=13, min_samples_split=2, splitter=best; total time=   0.0s\n",
            "[CV] END criterion=log_loss, max_depth=10, min_samples_leaf=14, min_samples_split=13, splitter=random; total time=   0.0s\n",
            "[CV] END criterion=log_loss, max_depth=10, min_samples_leaf=14, min_samples_split=13, splitter=random; total time=   0.0s\n",
            "[CV] END criterion=log_loss, max_depth=10, min_samples_leaf=14, min_samples_split=13, splitter=random; total time=   0.0s\n",
            "[CV] END criterion=log_loss, max_depth=10, min_samples_leaf=14, min_samples_split=13, splitter=random; total time=   0.0s\n",
            "[CV] END criterion=log_loss, max_depth=10, min_samples_leaf=14, min_samples_split=13, splitter=random; total time=   0.0s\n",
            "[CV] END criterion=gini, max_depth=7, min_samples_leaf=11, min_samples_split=11, splitter=best; total time=   0.0s\n",
            "[CV] END criterion=gini, max_depth=7, min_samples_leaf=11, min_samples_split=11, splitter=best; total time=   0.0s\n",
            "[CV] END criterion=gini, max_depth=7, min_samples_leaf=11, min_samples_split=11, splitter=best; total time=   0.0s\n",
            "[CV] END criterion=gini, max_depth=7, min_samples_leaf=11, min_samples_split=11, splitter=best; total time=   0.0s\n",
            "[CV] END criterion=gini, max_depth=7, min_samples_leaf=11, min_samples_split=11, splitter=best; total time=   0.0s\n",
            "[CV] END criterion=gini, max_depth=3, min_samples_leaf=1, min_samples_split=14, splitter=best; total time=   0.0s\n",
            "[CV] END criterion=gini, max_depth=3, min_samples_leaf=1, min_samples_split=14, splitter=best; total time=   0.0s\n",
            "[CV] END criterion=gini, max_depth=3, min_samples_leaf=1, min_samples_split=14, splitter=best; total time=   0.0s\n",
            "[CV] END criterion=gini, max_depth=3, min_samples_leaf=1, min_samples_split=14, splitter=best; total time=   0.0s\n",
            "[CV] END criterion=gini, max_depth=3, min_samples_leaf=1, min_samples_split=14, splitter=best; total time=   0.0s\n",
            "[CV] END criterion=entropy, max_depth=2, min_samples_leaf=13, min_samples_split=18, splitter=random; total time=   0.0s\n",
            "[CV] END criterion=entropy, max_depth=2, min_samples_leaf=13, min_samples_split=18, splitter=random; total time=   0.0s\n",
            "[CV] END criterion=entropy, max_depth=2, min_samples_leaf=13, min_samples_split=18, splitter=random; total time=   0.0s\n",
            "[CV] END criterion=entropy, max_depth=2, min_samples_leaf=13, min_samples_split=18, splitter=random; total time=   0.0s\n",
            "[CV] END criterion=entropy, max_depth=2, min_samples_leaf=13, min_samples_split=18, splitter=random; total time=   0.0s\n",
            "[CV] END criterion=log_loss, max_depth=5, min_samples_leaf=8, min_samples_split=10, splitter=random; total time=   0.0s\n",
            "[CV] END criterion=log_loss, max_depth=5, min_samples_leaf=8, min_samples_split=10, splitter=random; total time=   0.0s\n",
            "[CV] END criterion=log_loss, max_depth=5, min_samples_leaf=8, min_samples_split=10, splitter=random; total time=   0.0s\n",
            "[CV] END criterion=log_loss, max_depth=5, min_samples_leaf=8, min_samples_split=10, splitter=random; total time=   0.0s\n",
            "[CV] END criterion=log_loss, max_depth=5, min_samples_leaf=8, min_samples_split=10, splitter=random; total time=   0.0s\n",
            "[CV] END criterion=gini, max_depth=11, min_samples_leaf=15, min_samples_split=2, splitter=best; total time=   0.0s\n",
            "[CV] END criterion=gini, max_depth=11, min_samples_leaf=15, min_samples_split=2, splitter=best; total time=   0.0s\n",
            "[CV] END criterion=gini, max_depth=11, min_samples_leaf=15, min_samples_split=2, splitter=best; total time=   0.0s\n",
            "[CV] END criterion=gini, max_depth=11, min_samples_leaf=15, min_samples_split=2, splitter=best; total time=   0.0s\n",
            "[CV] END criterion=gini, max_depth=11, min_samples_leaf=15, min_samples_split=2, splitter=best; total time=   0.0s\n"
          ]
        }
      ]
    },
    {
      "cell_type": "markdown",
      "source": [
        "8. Evaluate training performance on the train data by generating confusion matrices and computing accuracy, precision, recall, f1 score,\n",
        "and so on.\n",
        "\n"
      ],
      "metadata": {
        "id": "DFtoe2VcbKSQ"
      }
    },
    {
      "cell_type": "code",
      "source": [
        "from sklearn.metrics import confusion_matrix, classification_report, accuracy_score\n",
        "print(\"Logistic Regression\\n\")\n",
        "train_preds = best_sgd.predict(X_train)\n",
        "clf_report = pd.DataFrame(classification_report(y_train, train_preds, output_dict=True))\n",
        "print(f\"Accuracy: {accuracy_score(y_train, train_preds) * 100:.2f}%\")\n",
        "print(f\"{clf_report}\")\n",
        "sns.heatmap(confusion_matrix(y_train, train_preds),\n",
        "annot=True, cbar=False, fmt='d')\n",
        "plt.show()"
      ],
      "metadata": {
        "colab": {
          "base_uri": "https://localhost:8080/",
          "height": 677
        },
        "id": "6txvnaoRbLdY",
        "outputId": "5ee33430-cb58-4bee-fdbd-ff5db8722362"
      },
      "execution_count": null,
      "outputs": [
        {
          "output_type": "stream",
          "name": "stdout",
          "text": [
            "Logistic Regression\n",
            "\n",
            "Accuracy: 98.33%\n",
            "           Iris-setosa  Iris-versicolor  Iris-virginica  accuracy   macro avg  \\\n",
            "precision          1.0         1.000000        0.954545  0.983333    0.984848   \n",
            "recall             1.0         0.945946        1.000000  0.983333    0.981982   \n",
            "f1-score           1.0         0.972222        0.976744  0.983333    0.982989   \n",
            "support           41.0        37.000000       42.000000  0.983333  120.000000   \n",
            "\n",
            "           weighted avg  \n",
            "precision      0.984091  \n",
            "recall         0.983333  \n",
            "f1-score       0.983296  \n",
            "support      120.000000  \n"
          ]
        },
        {
          "output_type": "display_data",
          "data": {
            "text/plain": [
              "<Figure size 640x480 with 1 Axes>"
            ],
            "image/png": "[encoded data removed]"
          },
          "metadata": {}
        }
      ]
    },
    {
      "cell_type": "code",
      "source": [
        "print(\"SVM\\n\")\n",
        "train_preds = best_svm.predict(X_train)\n",
        "clf_report = pd.DataFrame(classification_report(y_train, train_preds, output_dict=True))\n",
        "print(f\"Accuracy: {accuracy_score(y_train, train_preds) * 100:.2f}%\")\n",
        "print(f\"{clf_report}\")\n",
        "sns.heatmap(confusion_matrix(y_train, train_preds),\n",
        "annot=True, cbar=False, fmt='d'\n",
        ")\n",
        "plt.show()"
      ],
      "metadata": {
        "colab": {
          "base_uri": "https://localhost:8080/",
          "height": 677
        },
        "id": "z-d93STxbZ6h",
        "outputId": "a8d6c5e8-6509-4e9d-aad0-6b991258a8cc"
      },
      "execution_count": null,
      "outputs": [
        {
          "output_type": "stream",
          "name": "stdout",
          "text": [
            "SVM\n",
            "\n",
            "Accuracy: 98.33%\n",
            "           Iris-setosa  Iris-versicolor  Iris-virginica  accuracy   macro avg  \\\n",
            "precision          1.0         1.000000        0.954545  0.983333    0.984848   \n",
            "recall             1.0         0.945946        1.000000  0.983333    0.981982   \n",
            "f1-score           1.0         0.972222        0.976744  0.983333    0.982989   \n",
            "support           41.0        37.000000       42.000000  0.983333  120.000000   \n",
            "\n",
            "           weighted avg  \n",
            "precision      0.984091  \n",
            "recall         0.983333  \n",
            "f1-score       0.983296  \n",
            "support      120.000000  \n"
          ]
        },
        {
          "output_type": "display_data",
          "data": {
            "text/plain": [
              "<Figure size 640x480 with 1 Axes>"
            ],
            "image/png": "[encoded data removed]"
          },
          "metadata": {}
        }
      ]
    },
    {
      "cell_type": "code",
      "source": [
        "print(\"Decision Tree\\n\")\n",
        "train_preds = best_dt.predict(X_train)\n",
        "clf_report = pd.DataFrame(classification_report(y_train, train_preds, output_dict=True))\n",
        "print(f\"Accuracy: {accuracy_score(y_train, train_preds) * 100:.2f}%\")\n",
        "print(f\"{clf_report}\")\n",
        "sns.heatmap(confusion_matrix(y_train, train_preds),\n",
        "annot=True, cbar=False, fmt='d'\n",
        ")\n",
        "plt.show()"
      ],
      "metadata": {
        "colab": {
          "base_uri": "https://localhost:8080/",
          "height": 677
        },
        "id": "dNcru4X-bggG",
        "outputId": "14b8e5b9-5c49-4c0d-b8c1-584314082796"
      },
      "execution_count": null,
      "outputs": [
        {
          "output_type": "stream",
          "name": "stdout",
          "text": [
            "Decision Tree\n",
            "\n",
            "Accuracy: 98.33%\n",
            "           Iris-setosa  Iris-versicolor  Iris-virginica  accuracy   macro avg  \\\n",
            "precision          1.0         0.948718        1.000000  0.983333    0.982906   \n",
            "recall             1.0         1.000000        0.952381  0.983333    0.984127   \n",
            "f1-score           1.0         0.973684        0.975610  0.983333    0.983098   \n",
            "support           41.0        37.000000       42.000000  0.983333  120.000000   \n",
            "\n",
            "           weighted avg  \n",
            "precision      0.984188  \n",
            "recall         0.983333  \n",
            "f1-score       0.983349  \n",
            "support      120.000000  \n"
          ]
        },
        {
          "output_type": "display_data",
          "data": {
            "text/plain": [
              "<Figure size 640x480 with 1 Axes>"
            ],
            "image/png": "[encoded data removed]"
          },
          "metadata": {}
        }
      ]
    },
    {
      "cell_type": "markdown",
      "source": [
        "9. Evaluate their results on the test data by generating confusion matrices and computing accuracy, precision, recall, f1 score, and so on.\n",
        "Use bootstrapping to measure average accuracy/precision/recall and their 95% confidence interval."
      ],
      "metadata": {
        "id": "KkVIj0zHblG8"
      }
    },
    {
      "cell_type": "code",
      "source": [
        "print(\"Logistic Regression\\n\")\n",
        "test_preds = best_sgd.predict(X_test)\n",
        "clf_report = pd.DataFrame(classification_report(y_test, test_preds, output_dict=True))\n",
        "print(f\"Accuracy: {accuracy_score(y_test, test_preds) * 100:.2f}%\")\n",
        "print(f\"{clf_report}\")\n",
        "sns.heatmap(confusion_matrix(y_test, test_preds),\n",
        "annot=True, cbar=False, fmt='d'\n",
        ")\n",
        "plt.show()"
      ],
      "metadata": {
        "colab": {
          "base_uri": "https://localhost:8080/",
          "height": 677
        },
        "id": "vI2EmSg9bmdV",
        "outputId": "331721be-2e56-4175-9c19-af16e43dc1fc"
      },
      "execution_count": null,
      "outputs": [
        {
          "output_type": "stream",
          "name": "stdout",
          "text": [
            "Logistic Regression\n",
            "\n",
            "Accuracy: 93.33%\n",
            "           Iris-setosa  Iris-versicolor  Iris-virginica  accuracy  macro avg  \\\n",
            "precision          1.0         1.000000        0.800000  0.933333   0.933333   \n",
            "recall             1.0         0.846154        1.000000  0.933333   0.948718   \n",
            "f1-score           1.0         0.916667        0.888889  0.933333   0.935185   \n",
            "support            9.0        13.000000        8.000000  0.933333  30.000000   \n",
            "\n",
            "           weighted avg  \n",
            "precision      0.946667  \n",
            "recall         0.933333  \n",
            "f1-score       0.934259  \n",
            "support       30.000000  \n"
          ]
        },
        {
          "output_type": "display_data",
          "data": {
            "text/plain": [
              "<Figure size 640x480 with 1 Axes>"
            ],
            "image/png": "[encoded data removed]"
          },
          "metadata": {}
        }
      ]
    },
    {
      "cell_type": "code",
      "source": [
        "print(\"SVM\\n\")\n",
        "test_preds = best_svm.predict(X_test)\n",
        "clf_report = pd.DataFrame(classification_report(y_test, test_preds, output_dict=True))\n",
        "print(f\"Accuracy Score: {accuracy_score(y_test, test_preds) * 100:.2f}%\")\n",
        "print(f\"{clf_report}\")\n",
        "sns.heatmap(confusion_matrix(y_test, test_preds),\n",
        "annot=True, cbar=False, fmt='d'\n",
        ")\n",
        "plt.show()"
      ],
      "metadata": {
        "colab": {
          "base_uri": "https://localhost:8080/",
          "height": 677
        },
        "id": "An2hXLpQbr7K",
        "outputId": "df5193c1-9135-41b8-9710-157fc329c7df"
      },
      "execution_count": null,
      "outputs": [
        {
          "output_type": "stream",
          "name": "stdout",
          "text": [
            "SVM\n",
            "\n",
            "Accuracy Score: 93.33%\n",
            "           Iris-setosa  Iris-versicolor  Iris-virginica  accuracy  macro avg  \\\n",
            "precision          1.0         1.000000        0.800000  0.933333   0.933333   \n",
            "recall             1.0         0.846154        1.000000  0.933333   0.948718   \n",
            "f1-score           1.0         0.916667        0.888889  0.933333   0.935185   \n",
            "support            9.0        13.000000        8.000000  0.933333  30.000000   \n",
            "\n",
            "           weighted avg  \n",
            "precision      0.946667  \n",
            "recall         0.933333  \n",
            "f1-score       0.934259  \n",
            "support       30.000000  \n"
          ]
        },
        {
          "output_type": "display_data",
          "data": {
            "text/plain": [
              "<Figure size 640x480 with 1 Axes>"
            ],
            "image/png": "[encoded data removed]"
          },
          "metadata": {}
        }
      ]
    },
    {
      "cell_type": "code",
      "source": [
        "print(\"Decision Tree\\n\")\n",
        "test_preds = best_dt.predict(X_test)\n",
        "clf_report = pd.DataFrame(classification_report(y_test, test_preds, output_dict=True))\n",
        "print(f\"Accuracy Score: {accuracy_score(y_test, test_preds) * 100:.2f}%\")\n",
        "print(f\"{clf_report}\")\n",
        "sns.heatmap(confusion_matrix(y_test, test_preds),\n",
        "annot=True, cbar=False, fmt='d'\n",
        ")\n",
        "plt.show()"
      ],
      "metadata": {
        "colab": {
          "base_uri": "https://localhost:8080/",
          "height": 677
        },
        "id": "yOVJeLJ5bzLZ",
        "outputId": "04cb8084-aa6f-48e1-a416-e576f2fa6695"
      },
      "execution_count": null,
      "outputs": [
        {
          "output_type": "stream",
          "name": "stdout",
          "text": [
            "Decision Tree\n",
            "\n",
            "Accuracy Score: 93.33%\n",
            "           Iris-setosa  Iris-versicolor  Iris-virginica  accuracy  macro avg  \\\n",
            "precision          1.0         0.923077           0.875  0.933333   0.932692   \n",
            "recall             1.0         0.923077           0.875  0.933333   0.932692   \n",
            "f1-score           1.0         0.923077           0.875  0.933333   0.932692   \n",
            "support            9.0        13.000000           8.000  0.933333  30.000000   \n",
            "\n",
            "           weighted avg  \n",
            "precision      0.933333  \n",
            "recall         0.933333  \n",
            "f1-score       0.933333  \n",
            "support       30.000000  \n"
          ]
        },
        {
          "output_type": "display_data",
          "data": {
            "text/plain": [
              "<Figure size 640x480 with 1 Axes>"
            ],
            "image/png": "[encoded data removed]"
          },
          "metadata": {}
        }
      ]
    },
    {
      "cell_type": "code",
      "source": [
        "from sklearn.utils import resample\n",
        "from sklearn.metrics import precision_score, recall_score, accuracy_score\n",
        "import numpy as np\n",
        "\n",
        "n_iterations = 1000\n",
        "accuracy_scores = []\n",
        "precision_scores = []\n",
        "recall_scores = []\n",
        "\n",
        "y_pred = best_sgd.predict(X_test)\n",
        "\n",
        "for _ in range(n_iterations):\n",
        "    indices = resample(np.arange(len(y_test)))\n",
        "    y_test_resampled = y_test.iloc[indices]\n",
        "    y_pred_resampled = y_pred[indices]\n",
        "\n",
        "    accuracy = accuracy_score(y_test_resampled, y_pred_resampled)\n",
        "    precision = precision_score(y_test_resampled, y_pred_resampled, average='weighted')\n",
        "    recall = recall_score(y_test_resampled, y_pred_resampled, average='weighted')\n",
        "\n",
        "    accuracy_scores.append(accuracy)\n",
        "    precision_scores.append(precision)\n",
        "    recall_scores.append(recall)\n",
        "\n",
        "average_accuracy = np.mean(accuracy_scores)\n",
        "average_precision = np.mean(precision_scores)\n",
        "average_recall = np.mean(recall_scores)\n",
        "\n",
        "confidence_accuracy = np.percentile(accuracy_scores, [2.5, 97.5])\n",
        "confidence_precision = np.percentile(precision_scores, [2.5, 97.5])\n",
        "confidence_recall = np.percentile(recall_scores, [2.5, 97.5])\n",
        "\n",
        "print(f\"Average Accuracy: {average_accuracy}\")\n",
        "print(f\"Accuracy Interval: {confidence_accuracy}\")\n",
        "print(f\"Average Precision: {average_precision:.4f}\")\n",
        "print(f\"Precision Interval: {confidence_precision}\")\n",
        "print(f\"Average Recall: {average_recall:.4f}\")\n",
        "print(f\"Recall Interval: {confidence_recall}\")"
      ],
      "metadata": {
        "colab": {
          "base_uri": "https://localhost:8080/"
        },
        "id": "spRYVfjvb22f",
        "outputId": "5d039c0a-e987-428a-d10a-400e477ced81"
      },
      "execution_count": null,
      "outputs": [
        {
          "output_type": "stream",
          "name": "stdout",
          "text": [
            "Average Accuracy: 0.9334666666666667\n",
            "Accuracy Interval: [0.83333333 1.        ]\n",
            "Average Precision: 0.9519\n",
            "Precision Interval: [0.90277778 1.        ]\n",
            "Average Recall: 0.9335\n",
            "Recall Interval: [0.83333333 1.        ]\n"
          ]
        }
      ]
    },
    {
      "cell_type": "code",
      "source": [
        "from sklearn.utils import resample\n",
        "from sklearn.metrics import precision_score, recall_score, accuracy_score\n",
        "import numpy as np\n",
        "\n",
        "n_iterations = 1000\n",
        "accuracy_scores = []\n",
        "precision_scores = []\n",
        "recall_scores = []\n",
        "svm_y_pred = best_svm.predict(X_test)\n",
        "\n",
        "for _ in range(n_iterations):\n",
        "    indices = resample(np.arange(len(y_test)))\n",
        "    y_test_resampled = y_test.iloc[indices]\n",
        "    y_pred_resampled = svm_y_pred[indices]\n",
        "\n",
        "    accuracy = accuracy_score(y_test_resampled, y_pred_resampled)\n",
        "    precision = precision_score(y_test_resampled, y_pred_resampled, average='weighted')\n",
        "    recall = recall_score(y_test_resampled, y_pred_resampled, average='weighted')\n",
        "\n",
        "    accuracy_scores.append(accuracy)\n",
        "    precision_scores.append(precision)\n",
        "    recall_scores.append(recall)\n",
        "\n",
        "average_accuracy = np.mean(accuracy_scores)\n",
        "average_precision = np.mean(precision_scores)\n",
        "average_recall = np.mean(recall_scores)\n",
        "\n",
        "confidence_accuracy = np.percentile(accuracy_scores, [2.5, 97.5])\n",
        "confidence_precision = np.percentile(precision_scores, [2.5, 97.5])\n",
        "confidence_recall = np.percentile(recall_scores, [2.5, 97.5])\n",
        "\n",
        "print(f\"Average Accuracy: {average_accuracy}\")\n",
        "print(f\"Accuracy Interval: {confidence_accuracy}\")\n",
        "print(f\"Average Precision: {average_precision:.4f}\")\n",
        "print(f\"Precision Interval: {confidence_precision}\")\n",
        "print(f\"Average Recall: {average_recall:.4f}\")\n",
        "print(f\"Recall Interval: {confidence_recall}\")"
      ],
      "metadata": {
        "colab": {
          "base_uri": "https://localhost:8080/"
        },
        "id": "m7HuYxZbdOl3",
        "outputId": "52fcc77d-2c4d-408b-eb1e-6604f7c28ef3"
      },
      "execution_count": null,
      "outputs": [
        {
          "output_type": "stream",
          "name": "stdout",
          "text": [
            "Average Accuracy: 0.9324333333333336\n",
            "Accuracy Interval: [0.83333333 1.        ]\n",
            "Average Precision: 0.9516\n",
            "Precision Interval: [0.90216667 1.        ]\n",
            "Average Recall: 0.9324\n",
            "Recall Interval: [0.83333333 1.        ]\n"
          ]
        }
      ]
    },
    {
      "cell_type": "code",
      "source": [
        "from sklearn.utils import resample\n",
        "from sklearn.metrics import precision_score, recall_score, accuracy_score\n",
        "import numpy as np\n",
        "\n",
        "n_iterations = 1000\n",
        "accuracy_scores = []\n",
        "precision_scores = []\n",
        "recall_scores = []\n",
        "dt_y_pred = best_dt.predict(X_test)\n",
        "\n",
        "for _ in range(n_iterations):\n",
        "    indices = resample(np.arange(len(y_test)))\n",
        "    y_test_resampled = y_test.iloc[indices]\n",
        "    y_pred_resampled = dt_y_pred[indices]\n",
        "\n",
        "    accuracy = accuracy_score(y_test_resampled, y_pred_resampled)\n",
        "    precision = precision_score(y_test_resampled, y_pred_resampled, average='weighted')\n",
        "    recall = recall_score(y_test_resampled, y_pred_resampled, average='weighted')\n",
        "\n",
        "    accuracy_scores.append(accuracy)\n",
        "    precision_scores.append(precision)\n",
        "    recall_scores.append(recall)\n",
        "\n",
        "average_accuracy = np.mean(accuracy_scores)\n",
        "average_precision = np.mean(precision_scores)\n",
        "average_recall = np.mean(recall_scores)\n",
        "\n",
        "confidence_accuracy = np.percentile(accuracy_scores, [2.5, 97.5])\n",
        "confidence_precision = np.percentile(precision_scores, [2.5, 97.5])\n",
        "confidence_recall = np.percentile(recall_scores, [2.5, 97.5])\n",
        "\n",
        "print(f\"Average Accuracy: {average_accuracy}\")\n",
        "print(f\"Accuracy Interval: {confidence_accuracy}\")\n",
        "print(f\"Average Precision: {average_precision:.4f}\")\n",
        "print(f\"Precision Interval: {confidence_precision}\")\n",
        "print(f\"Average Recall: {average_recall:.4f}\")\n",
        "print(f\"Recall Interval: {confidence_recall}\")"
      ],
      "metadata": {
        "colab": {
          "base_uri": "https://localhost:8080/"
        },
        "id": "wu54fKTtdeDh",
        "outputId": "955c5b14-e22a-488b-f86d-88457616cf80"
      },
      "execution_count": null,
      "outputs": [
        {
          "output_type": "stream",
          "name": "stdout",
          "text": [
            "Average Accuracy: 0.9312333333333335\n",
            "Accuracy Interval: [0.83333333 1.        ]\n",
            "Average Precision: 0.9374\n",
            "Precision Interval: [0.84023512 1.        ]\n",
            "Average Recall: 0.9312\n",
            "Recall Interval: [0.83333333 1.        ]\n"
          ]
        }
      ]
    },
    {
      "cell_type": "markdown",
      "source": [
        "10. Compare the training and test results of each model and select the best one. Pay attention to overfitting or underfitting.\n",
        "\n",
        "\n",
        "\n"
      ],
      "metadata": {
        "id": "CSSe5VCmfdue"
      }
    },
    {
      "cell_type": "markdown",
      "source": [
        "Observing perfect scores (Accuracy, Precision, Recall, and F1 score of 1) on the training set suggests that the models may be overfitting to the training data. However, it's crucial to note that this doesn't necessarily translate to similar performance on the test set. Overfitting often leads to a lack of generalization, and it's recommended to assess the models' performance on the test set to better understand their effectiveness in real-world scenarios."
      ],
      "metadata": {
        "id": "zj7RB8TCgDMI"
      }
    }
  ]
}